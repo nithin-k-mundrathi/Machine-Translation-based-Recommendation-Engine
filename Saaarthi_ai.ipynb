{
  "nbformat": 4,
  "nbformat_minor": 0,
  "metadata": {
    "colab": {
      "name": "Saaarthi.ai",
      "provenance": [],
      "collapsed_sections": []
    },
    "kernelspec": {
      "name": "python3",
      "display_name": "Python 3"
    }
  },
  "cells": [
    {
      "cell_type": "code",
      "metadata": {
        "id": "xfgjma_GMXVD",
        "colab_type": "code",
        "colab": {}
      },
      "source": [
        "import tarfile\n",
        "tar = tarfile.open('/content/emotions.tar.gz')\n",
        "tar.extractall()\n",
        "tar.close()"
      ],
      "execution_count": 0,
      "outputs": []
    },
    {
      "cell_type": "code",
      "metadata": {
        "id": "YD8YrUzSWe7U",
        "colab_type": "code",
        "colab": {}
      },
      "source": [
        "%matplotlib inline\n",
        "import warnings\n",
        "warnings.filterwarnings(\"ignore\")\n",
        "\n",
        "import sqlite3\n",
        "import pandas as pd\n",
        "import numpy as np\n",
        "import nltk\n",
        "import string\n",
        "import matplotlib.pyplot as plt\n",
        "import seaborn as sns\n",
        "from sklearn.feature_extraction.text import TfidfTransformer\n",
        "from sklearn.feature_extraction.text import TfidfVectorizer\n",
        "\n",
        "from sklearn.feature_extraction.text import CountVectorizer\n",
        "from sklearn.metrics import confusion_matrix\n",
        "from sklearn import metrics\n",
        "from sklearn.metrics import roc_curve, auc\n",
        "from nltk.stem.porter import PorterStemmer\n",
        "\n",
        "import re\n",
        "# Tutorial about Python regular expressions: https://pymotw.com/2/re/\n",
        "import string\n",
        "from nltk.corpus import stopwords\n",
        "from nltk.stem import PorterStemmer\n",
        "from nltk.stem.wordnet import WordNetLemmatizer\n",
        "\n",
        "from gensim.models import Word2Vec\n",
        "from gensim.models import KeyedVectors\n",
        "import pickle\n",
        "\n",
        "from tqdm import tqdm\n",
        "import os\n",
        "from collections import Counter\n",
        "\n",
        "\n",
        "# Credits: https://machinelearningmastery.com/sequence-classification-lstm-recurrent-neural-networks-python-keras/\n",
        "# LSTM for sequence classification in the IMDB dataset\n",
        "import numpy\n",
        "from keras.datasets import imdb\n",
        "from keras.models import Sequential\n",
        "from keras.layers import Dense\n",
        "from keras.layers import LSTM\n",
        "from keras.layers.embeddings import Embedding\n",
        "from keras.preprocessing import sequence\n",
        "# fix random seed for reproducibility\n",
        "numpy.random.seed(7)\n",
        "from numpy import array\n",
        "from numpy import asarray\n",
        "from numpy import zeros\n",
        "from keras.preprocessing.text import Tokenizer\n",
        "from keras.preprocessing.sequence import pad_sequences\n",
        "from keras.models import Sequential\n",
        "from keras.layers import Dense\n",
        "from keras.layers import Flatten\n",
        "\n",
        "from keras.layers import Embedding\n",
        "from keras.layers import Dense,LSTM\n",
        "from keras import Input\n",
        "import numpy as np\n",
        "np.random.seed(0)\n",
        "from keras.models import Model\n",
        "from keras.layers import Dense, Input, Dropout, LSTM, Activation,Reshape\n",
        "from keras.layers.embeddings import Embedding\n",
        "from keras.preprocessing import sequence\n",
        "from keras.initializers import glorot_uniform\n",
        "import keras\n",
        "from keras.models import load_model, Model\n",
        "from keras.layers import Dense, Activation, Dropout, Input, LSTM, Reshape, Lambda, RepeatVector\n",
        "from keras.initializers import glorot_uniform\n",
        "from keras.utils import to_categorical\n",
        "from keras.optimizers import Adam\n",
        "from keras import backend as K\n",
        "from sklearn.metrics import roc_auc_score\n",
        "from sklearn.datasets import make_classification\n",
        "from keras.models import Sequential\n",
        "import tensorflow as tf\n",
        "from sklearn.metrics import roc_auc_score\n",
        " \n",
        "from keras.layers import Dense\n",
        "from keras.utils import np_utils\n",
        "from keras.callbacks import Callback, EarlyStopping"
      ],
      "execution_count": 0,
      "outputs": []
    },
    {
      "cell_type": "code",
      "metadata": {
        "id": "DvE4s5EaJIIf",
        "colab_type": "code",
        "colab": {}
      },
      "source": [
        "from numpy.random import seed\n",
        "seed(1)\n",
        "from tensorflow import set_random_seed\n",
        "set_random_seed(2)"
      ],
      "execution_count": 0,
      "outputs": []
    },
    {
      "cell_type": "code",
      "metadata": {
        "id": "d1b7C3L0O11G",
        "colab_type": "code",
        "colab": {}
      },
      "source": [
        "def list_data(path):\n",
        "  list_data= []\n",
        "  for i in os.listdir(path):\n",
        "    data = pd.read_csv( path + '/' + str(i), sep=\",\", header=None)\n",
        "    list_data.append(data[0][0]) \n",
        "  return list_data\n"
      ],
      "execution_count": 0,
      "outputs": []
    },
    {
      "cell_type": "code",
      "metadata": {
        "id": "VH0e5reYPJyr",
        "colab_type": "code",
        "colab": {}
      },
      "source": [
        "angry_list  = list_data('/content/emotions/angry')"
      ],
      "execution_count": 0,
      "outputs": []
    },
    {
      "cell_type": "code",
      "metadata": {
        "id": "7eYLGu7NPaPO",
        "colab_type": "code",
        "colab": {}
      },
      "source": [
        "happy_list  = list_data('/content/emotions/happy')"
      ],
      "execution_count": 0,
      "outputs": []
    },
    {
      "cell_type": "code",
      "metadata": {
        "id": "ON1Dsb6zPa7N",
        "colab_type": "code",
        "colab": {}
      },
      "source": [
        "sad_list  = list_data('/content/emotions/sad')"
      ],
      "execution_count": 0,
      "outputs": []
    },
    {
      "cell_type": "code",
      "metadata": {
        "id": "Ik6onhZiPbLt",
        "colab_type": "code",
        "colab": {}
      },
      "source": [
        "neutral_list  = list_data('/content/emotions/neutral')"
      ],
      "execution_count": 0,
      "outputs": []
    },
    {
      "cell_type": "code",
      "metadata": {
        "id": "OAwwBAKCPELM",
        "colab_type": "code",
        "colab": {}
      },
      "source": [
        "all_words=set()\n",
        "for line in sad_list:\n",
        "    for word in line.split(' '):\n",
        "        if word not in all_words:\n",
        "            all_words.add(word)\n",
        "\n",
        "for line in neutral_list:\n",
        "    for word in line.split(' '):\n",
        "        if word not in all_words:\n",
        "            all_words.add(word)   \n",
        "\n",
        "for line in happy_list:\n",
        "    for word in line.split(' '):\n",
        "        if word not in all_words:\n",
        "            all_words.add(word)        \n",
        "\n",
        "for line in angry_list:\n",
        "    for word in line.split(' '):\n",
        "        if word not in all_words:\n",
        "            all_words.add(word)                         "
      ],
      "execution_count": 0,
      "outputs": []
    },
    {
      "cell_type": "markdown",
      "metadata": {
        "id": "khT3mPePf-EJ",
        "colab_type": "text"
      },
      "source": [
        "### Adding all text into a single List"
      ]
    },
    {
      "cell_type": "code",
      "metadata": {
        "id": "Rko-IDO5AnXS",
        "colab_type": "code",
        "colab": {}
      },
      "source": [
        "list_sentences = sad_list + neutral_list + happy_list + angry_list"
      ],
      "execution_count": 0,
      "outputs": []
    },
    {
      "cell_type": "code",
      "metadata": {
        "id": "w6dIaxAOCgCD",
        "colab_type": "code",
        "colab": {}
      },
      "source": [
        "df = pd.DataFrame()"
      ],
      "execution_count": 0,
      "outputs": []
    },
    {
      "cell_type": "code",
      "metadata": {
        "id": "eAVuGuM0YBjM",
        "colab_type": "code",
        "colab": {}
      },
      "source": [
        "output_y = []\n",
        "\n",
        "for i in range(len(sad_list)):\n",
        "  output_y.append(1)\n",
        "for i in range(len(neutral_list)):\n",
        "  output_y.append(2)\n",
        "for i in range(len(happy_list)):\n",
        "  output_y.append(3)\n",
        "for i in range(len(angry_list)):\n",
        "  output_y.append(4)      "
      ],
      "execution_count": 0,
      "outputs": []
    },
    {
      "cell_type": "markdown",
      "metadata": {
        "id": "zkv95J47gC-2",
        "colab_type": "text"
      },
      "source": [
        "### Shuffling the Dataframe"
      ]
    },
    {
      "cell_type": "code",
      "metadata": {
        "id": "xk0XRTZICgTE",
        "colab_type": "code",
        "colab": {}
      },
      "source": [
        "df['text'] = list_sentences"
      ],
      "execution_count": 0,
      "outputs": []
    },
    {
      "cell_type": "code",
      "metadata": {
        "id": "WgVtcPhOCg6P",
        "colab_type": "code",
        "colab": {}
      },
      "source": [
        "df['output'] =output_y\n",
        "from sklearn.utils import shuffle\n",
        "df = shuffle(df)"
      ],
      "execution_count": 0,
      "outputs": []
    },
    {
      "cell_type": "code",
      "metadata": {
        "id": "oVSM5-46ChMr",
        "colab_type": "code",
        "colab": {}
      },
      "source": [
        "list_sentences = df['text'] "
      ],
      "execution_count": 0,
      "outputs": []
    },
    {
      "cell_type": "code",
      "metadata": {
        "id": "G0xd3KPvA_T9",
        "colab_type": "code",
        "colab": {}
      },
      "source": [
        "output_y = df['output'] "
      ],
      "execution_count": 0,
      "outputs": []
    },
    {
      "cell_type": "code",
      "metadata": {
        "id": "jn5Pr93QYCAs",
        "colab_type": "code",
        "colab": {
          "base_uri": "https://localhost:8080/",
          "height": 35
        },
        "outputId": "97593b4c-bfa5-419a-d67d-044ebd5d29ef"
      },
      "source": [
        "from sklearn.preprocessing import OneHotEncoder\n",
        "onehot_encoder = OneHotEncoder()\n",
        "\n",
        "y_train = np.array(output_y)\n",
        "y_encoded = onehot_encoder.fit_transform(y_train.reshape(-1,1)).toarray()\n",
        "print('outputs_encoded.shape after One Hot Encode', y_encoded.shape)"
      ],
      "execution_count": 632,
      "outputs": [
        {
          "output_type": "stream",
          "text": [
            "outputs_encoded.shape after One Hot Encode (513, 4)\n"
          ],
          "name": "stdout"
        }
      ]
    },
    {
      "cell_type": "markdown",
      "metadata": {
        "id": "2BhEovO7gISm",
        "colab_type": "text"
      },
      "source": [
        "### text Processing using keras Tokenizer"
      ]
    },
    {
      "cell_type": "code",
      "metadata": {
        "id": "6hMiPmtlYCTi",
        "colab_type": "code",
        "colab": {
          "base_uri": "https://localhost:8080/",
          "height": 35
        },
        "outputId": "50ba1473-73b6-44a2-9886-d17c1a2e8984"
      },
      "source": [
        "maxLen = len(max(list_sentences, key=len).split())\n",
        "maxLen"
      ],
      "execution_count": 633,
      "outputs": [
        {
          "output_type": "execute_result",
          "data": {
            "text/plain": [
              "11"
            ]
          },
          "metadata": {
            "tags": []
          },
          "execution_count": 633
        }
      ]
    },
    {
      "cell_type": "code",
      "metadata": {
        "id": "eNcfz3ScVmdw",
        "colab_type": "code",
        "colab": {
          "base_uri": "https://localhost:8080/",
          "height": 179
        },
        "outputId": "0fcec9dc-b4a5-4946-935d-ac01e2d00648"
      },
      "source": [
        "from keras.preprocessing.text import Tokenizer\n",
        "\n",
        "t = Tokenizer()\n",
        "t.fit_on_texts(list_sentences)\n",
        "vocab_size = len(t.word_index) + 1\n",
        "# integer encode the documents\n",
        "encoded_docs = t.texts_to_sequences(list_sentences)\n",
        "print(encoded_docs)\n",
        "# pad documents to a max length of 4 words\n",
        "max_length = 12\n",
        "padded_docs = sequence.pad_sequences(encoded_docs, maxlen=max_length, padding='post')\n",
        "print(padded_docs)"
      ],
      "execution_count": 634,
      "outputs": [
        {
          "output_type": "stream",
          "text": [
            "[[21, 72, 73, 30, 329, 25, 4, 161], [124, 73], [7, 12, 25, 1], [91, 162, 65, 330, 103, 104, 105], [48, 22, 22, 331, 43, 26, 1], [85, 216, 125, 332, 126, 29, 9], [49, 333, 1, 2], [217, 2, 86, 50, 4, 38, 26, 1], [98], [12, 72, 163, 334, 164, 1], [12, 33, 218, 34, 16], [60, 33, 335, 6, 52], [219, 220, 53, 44, 1, 41, 54, 13], [28, 49, 221, 1, 2], [106, 54, 18, 45, 124], [222, 5, 223, 10, 92, 127, 3, 107], [12, 9, 336, 337, 35, 22, 4, 16, 5], [11, 61, 74, 224, 4, 225, 60], [27, 46, 49, 19, 3, 23, 108], [87, 226, 12, 1], [14, 338, 10, 62, 339, 39], [2, 128, 227, 340], [2, 55, 1], [11, 129, 20, 75, 1, 36, 76], [85, 37, 18, 341, 9, 35, 105], [5, 42, 342, 34, 4, 165, 26], [21, 72, 73, 30, 343, 4, 77], [130, 31, 92, 127, 6, 228, 93], [11, 34, 55, 229, 22, 230], [109, 44, 131, 56, 344, 4, 132], [49, 19, 4, 110], [66, 345, 21, 29, 346], [63, 7, 99, 4, 39], [2, 231, 347, 1], [21, 72, 111, 232, 112, 13, 12, 233], [348, 10, 94, 166, 349, 41], [17, 46, 15, 49, 19, 88, 3], [50, 4, 38, 26, 5, 2, 133, 24], [350, 11, 20, 4, 6, 351, 78, 3, 17], [40, 28, 234, 352, 235, 3, 95], [236, 353, 22, 237, 13, 1, 354, 42, 355, 4, 356, 26], [42, 20, 15, 4, 1, 7, 37], [57, 33, 62, 25, 238, 125, 78], [8, 34, 357, 358, 16, 359], [24, 217, 31, 360], [40, 67, 3, 167, 2], [7, 168, 1], [21, 28, 15, 67, 239, 3, 26, 1, 22, 22], [5, 40, 361, 43, 4, 50, 78], [11, 14, 19, 362], [5, 28, 56, 363, 364, 6, 228, 1], [98, 365, 16, 134], [366, 113, 24, 169, 114, 4, 89], [2, 109, 170, 3, 240], [14, 100, 56, 135, 367, 10, 55, 4, 13], [241, 242], [68, 368, 12, 16], [136, 13, 104, 79, 167, 115], [2, 55, 1, 5, 80, 12, 79, 23], [58, 98], [115, 32, 171, 28, 79], [7, 172, 42, 369, 4, 1], [35, 370], [243, 243, 173, 244, 371, 24], [17, 91, 245, 3], [14, 69, 8, 372, 16], [373, 374, 246], [24, 101, 89], [2, 57, 375, 174], [58, 171, 224, 247, 132, 5], [81, 106, 70], [96, 376, 103, 248, 175, 70], [236, 176, 14, 19, 13, 39, 134, 177, 43, 4, 26], [82, 20, 18, 4, 3, 17], [37, 10, 42, 116, 4, 178], [63, 25, 249, 24, 377, 34, 6, 250], [378, 117, 30, 1, 251], [252, 13, 179, 10, 180, 13, 82, 46, 49, 1], [42, 61, 4, 379, 166], [57, 18, 253, 62, 380, 20, 3, 381, 1], [21, 72, 11, 106, 137, 16], [27, 118, 31, 382, 3, 138, 1, 181], [46, 13, 182, 62, 139, 39], [4, 383, 29, 83, 131, 384], [183, 101, 6, 52, 76], [5, 22, 22, 385, 34, 43, 19, 184, 1], [140, 185, 14, 79, 95], [254, 37], [130, 34, 30, 255, 78, 33, 2, 55, 1], [28, 9, 386, 18, 45, 61, 42, 19, 6, 64], [51, 58, 141, 66, 3, 61, 23], [11, 129, 238, 178, 1], [256, 142, 142, 59, 27, 387, 129, 257, 54, 18, 45], [143, 173, 107], [5, 24, 8, 113, 3, 23, 84], [7, 14, 258, 143, 173, 23], [14, 18, 69, 56, 32, 388, 9, 34, 389, 390], [181, 391, 259, 1, 85, 37, 56], [71, 392, 16, 12, 9], [2, 93, 260, 21, 47, 13, 393, 261], [144, 4, 186, 26, 83, 41], [58, 5, 74, 394, 125, 26], [395, 15, 91, 71, 48, 1, 73], [46, 56, 396, 397, 6, 398, 1], [51, 5, 7, 14, 258, 187, 1, 262, 188], [2, 71, 263, 1], [32, 7, 48, 264, 25, 4, 161], [96, 2, 32, 90, 399, 50, 26, 1], [20, 3, 23], [53, 44, 11, 34, 55, 230], [14, 265, 165, 4, 400], [40, 28, 15, 2, 266, 1], [401, 37], [8, 34, 128, 402, 1, 73, 36], [46, 67, 31, 267, 50, 9, 4, 38, 26, 1], [403, 32, 189, 404, 1, 2], [32, 33, 7, 48, 8, 25, 187, 1], [51, 58, 2, 55, 1], [40, 405, 141, 406, 31, 1], [14, 100, 56, 135, 407, 13], [28, 9, 8, 190, 77], [252, 15, 46, 221, 1], [5, 2, 117, 30, 1], [408, 35, 268, 28, 19, 3, 138, 16], [53, 44, 269, 126, 29, 9], [8, 25, 36], [29, 270, 18, 45, 59, 21, 5], [38, 191, 2, 55, 1], [409, 71], [40, 46, 65, 10, 125, 271, 1, 410], [411, 192, 7, 99, 4, 39], [7, 48, 114, 61, 412, 145, 413, 1], [414, 6, 52, 60], [5, 21, 29, 193, 53, 415], [40, 14, 43, 4, 38, 271, 1], [416, 5, 417, 3, 95], [272, 146], [5, 7, 33, 418, 273, 20, 194, 1], [274, 72, 11, 22, 9, 50, 9, 4, 419, 2], [420, 81, 275, 421, 147], [8, 113, 194, 1, 7, 37], [117, 30], [422, 9, 423, 13, 276, 62, 424, 3, 425, 1], [57, 15, 97, 195, 1], [59, 36], [119, 38, 23, 36], [46, 49, 19, 6, 138, 1, 90], [17, 8, 277, 3], [278, 426, 427, 10, 237, 196, 174], [51, 428, 36], [7, 2, 1], [2, 17, 40, 116, 6, 88, 3], [37, 197, 279, 4, 1], [63, 7, 99, 4, 39], [32, 63, 7, 99, 4, 39], [96, 280], [281, 282, 6, 52], [241, 242, 2, 20, 75, 1, 60], [185, 12, 16, 5], [108], [429, 42, 50, 9, 4, 283, 2, 198], [14, 69, 189, 16], [284], [146, 30], [126, 20, 29, 9, 87, 92], [11, 22, 9, 50, 4, 77, 199, 41, 54, 33], [148, 200, 27, 46, 49, 19, 3, 23], [101, 89, 83], [255, 130, 31, 3, 285, 1, 430, 37], [12, 149, 10, 431, 9, 1], [69, 56, 150, 6, 52], [51, 7, 201, 31, 432, 3, 23, 202], [57, 15, 433, 2, 1], [51, 5, 434, 435, 72, 436, 203, 203, 113, 3, 23, 84], [71, 14, 39, 5], [17, 11, 279, 437, 3], [24, 63, 438, 151], [68, 74, 263, 1, 5], [21, 47, 9, 68, 118, 1], [14, 53, 44, 188], [286, 7, 169, 3, 285], [287, 288], [7, 48, 8, 439, 204, 23, 1, 5], [8, 119, 77], [17, 289, 168, 3], [63, 25, 202, 10, 20, 186, 250], [7, 48, 440, 120, 441], [442, 30, 13, 99, 39, 192], [275, 443, 444], [290, 12, 16], [445, 446, 2, 1, 118, 447, 152, 9], [12, 15, 205, 291, 16], [448], [83, 264, 449, 121, 278, 30, 10], [2, 450, 451, 1, 102, 48, 15], [93, 452, 30, 111, 112, 453], [29, 270, 18, 45, 124, 454], [2, 83, 92, 455, 6, 138, 121], [183, 292, 153, 76], [218, 456, 48, 187, 1], [24, 33, 8, 101, 121, 7, 48, 457, 120], [458, 459], [293, 206, 111, 112, 460], [8, 461, 1, 5, 294], [154, 175, 207, 6, 35, 66, 41, 6], [51, 58], [7, 195, 117, 208, 1], [462, 69, 16], [155, 33, 8, 25, 172, 1], [2, 32, 463, 261, 260], [109, 18, 109, 19, 70], [464, 216, 13, 28, 13, 49, 186, 64, 465, 10, 179, 13], [5, 7, 8, 74, 209, 1], [156, 2, 133], [286, 7, 3, 466, 5], [131, 27, 122, 53, 44, 188], [90, 189, 1, 2], [91, 268, 28, 15, 49, 19, 6, 64, 123, 10, 180, 15], [104, 2, 65, 467, 468], [11, 469, 19, 70], [113, 3, 23, 470, 5], [59, 83, 101, 89], [35, 2, 2, 194, 1, 7, 37], [471, 8, 472, 84], [12, 10, 473, 25, 4, 16], [295, 30, 50, 18, 296, 1], [32, 28, 15, 49, 79, 23, 58], [17, 35, 474, 6, 88, 3], [27, 154, 207, 175, 6, 35, 170, 41, 6], [475, 476, 19, 6, 88, 3, 2], [57, 15, 97, 8, 80, 1, 5], [477, 478, 70, 73], [17, 479, 20, 18, 4, 3, 198], [2, 105, 5, 281, 34, 207, 1], [296, 2, 480, 1], [114, 33, 20, 18, 481, 17], [141, 482, 39, 134, 165], [148, 200], [297], [298, 272, 299], [119, 4, 77, 85, 22], [51, 80, 11, 116, 6, 64, 81], [27, 28, 300, 19, 3, 23, 140], [8, 34, 117, 48, 1, 73], [24, 62, 483, 23, 57], [2, 82, 301, 1, 102, 112], [5, 2, 128, 6, 78, 3, 17], [14, 484, 9, 35, 68, 65, 1], [60, 302, 485, 6, 52], [5, 486, 487, 488, 1], [2, 291, 1, 5], [87, 489, 43, 490], [42, 29, 1, 491, 4, 21, 47, 9], [2, 74, 37, 1, 7], [303, 90, 66, 41, 492], [493], [25, 20, 75, 36], [8, 494], [107, 495, 3, 17, 496], [304, 119, 38, 23], [251, 30, 10, 305, 101, 1], [157, 204, 26, 1, 497, 10, 55, 6, 26, 84], [126, 29, 9, 229, 253, 269], [32, 63, 55, 4, 196, 1], [38, 191, 81, 17, 98, 3], [2, 27, 28, 306, 65, 1], [147, 51, 307, 498], [57, 15, 97, 105], [8, 499, 121, 24, 102, 308], [131, 309, 3, 17], [222, 5, 40, 28, 235, 3, 95], [27, 206, 53, 44, 210], [310, 311, 21, 29, 500], [303, 37], [11, 20, 6, 64], [108, 136, 13, 104, 79, 167], [501, 502, 57, 33, 76, 183, 292, 153, 36], [91, 171, 28, 31, 211, 503], [8, 34, 504], [7, 14, 505, 10, 65, 312, 19, 4, 110], [198], [97, 2, 506, 1], [115, 24, 66, 507, 38, 23], [91, 162, 103, 508, 206, 149, 509, 1], [40, 28, 510, 43, 110, 1], [123, 10, 67, 43, 4, 3, 26, 1], [12, 13, 265, 139, 313, 39], [309], [511, 294, 10, 156, 30, 4, 512], [8, 34, 245, 30, 1, 12, 13], [513, 314, 16], [32, 514, 515, 4, 3, 26, 16], [163, 22, 11, 34, 209, 516, 174], [8, 65, 204, 26, 1, 19, 517, 197], [149, 212, 208, 518, 18, 315, 10, 74, 94], [24, 519, 4, 84], [62, 106, 6, 132, 76], [108, 5, 2, 520, 225, 1, 60], [42, 190, 313, 77], [254], [21, 46, 15, 67, 239, 3, 26, 1, 22, 22], [111, 93, 72, 50, 2, 259, 1, 76, 521], [157, 31, 210], [522, 181, 3, 17, 166], [2, 523, 20, 75, 1, 36], [30, 524, 70], [525, 526, 527, 528], [68, 529, 12, 16], [90, 530, 293, 227, 531, 145, 532], [116, 54, 18, 45, 59], [155, 12, 62, 25, 16], [246, 533], [534, 182, 535, 4, 39], [147, 316, 536, 213], [21, 47, 15, 118, 537, 538], [62, 539, 1], [154, 158, 6, 52], [74, 1], [540, 97, 290, 1], [51, 58, 2, 30, 1], [185, 159, 110, 57, 58], [231, 541, 9, 159, 152, 103, 1, 2], [36, 32, 11, 55, 105], [29, 109, 44, 193, 4, 542, 5], [543, 196, 137], [195, 1, 90], [24, 544, 31, 267], [73, 82, 317, 4, 81], [27, 11, 545, 1], [21, 47, 9, 68, 546, 318, 1], [27, 154, 158, 3, 23, 1, 547, 548, 549], [550, 11, 22, 83, 50, 4, 283, 2], [12, 33, 98, 1], [176, 201, 24, 4, 551, 552, 29, 43, 553], [305, 74, 554, 144, 78, 555], [25, 556, 4, 16], [2, 557, 1, 5], [7, 92, 15, 276, 87, 319, 43, 6, 558, 1, 22, 22], [320, 92, 13, 559, 560, 9, 8, 139, 1], [561, 15, 12, 16], [140, 11, 129, 301, 79, 23], [42, 157, 160, 64, 5, 13, 321, 562], [37, 9, 35, 563, 564], [2, 60, 205, 565, 153], [304], [27, 14, 150, 6, 64], [2, 71, 13, 248, 6, 78, 3], [96, 11, 566, 19, 6, 64, 36, 18, 45], [17, 114, 42, 567, 34, 4, 3], [14, 69, 56, 32, 568, 132], [11, 214, 212, 12, 19, 70], [108, 40, 104, 66, 38], [569, 21, 45, 136, 9, 11, 570, 571], [7, 12, 15, 572, 87, 573, 43, 177, 26, 1], [140, 2, 160, 164, 1], [24, 63, 8, 574, 84], [67, 31, 94], [575], [8, 34, 214], [60, 32, 8, 322, 6, 52], [7, 201, 31, 576, 133], [577, 155, 120, 578], [40, 182, 579, 580, 39, 59], [581], [63, 82, 20, 244, 184, 280], [5, 53, 94, 41, 21, 47, 15], [12, 40, 323, 18, 315, 10, 4, 16], [148, 11, 67, 6, 145, 14, 13], [40, 46, 15, 266, 211, 70], [27, 47, 53, 44, 210], [582, 61, 11, 22, 324, 86, 137], [123, 82, 583, 584, 12, 1, 232, 112, 24], [7, 33, 25, 1], [14, 100, 56, 223, 10, 150, 6, 52], [51, 7, 31, 94, 5], [102, 20, 13, 585, 586, 121], [325, 54, 312, 61, 4, 3, 26], [66, 11, 46, 15, 49, 19, 70], [2, 587, 6, 52, 76], [14, 100, 56, 135, 588, 589, 590], [192, 55, 120, 25, 161], [163, 22, 199, 13, 27, 591, 592, 41, 86, 1], [8, 80, 89, 593, 29, 220, 10, 169, 38, 107], [24, 594, 151], [93, 130, 31, 27, 122, 595, 88, 3], [85, 97, 18, 308, 24, 596, 84], [63, 4, 3, 597], [302, 598, 3, 23, 27], [32, 274, 10, 35, 99, 39, 5], [599, 10, 180, 13, 234, 28, 326, 19, 86], [32, 63, 35, 323, 39], [139, 14, 79, 95, 58], [42, 61, 120, 21, 29, 600, 601], [35, 2, 2, 6, 88, 3, 17, 602, 45], [202, 18, 603, 247, 7, 604, 31, 605, 133, 83], [606, 12, 9, 190, 4, 77], [2, 5, 156, 44, 122, 4, 77], [226, 37, 1], [59, 21, 36], [607, 1, 2], [17, 80, 3, 5], [287], [115, 27, 28, 300, 19, 3, 23], [38, 191, 81, 17, 213, 3], [21, 47, 9, 68, 118, 318, 1], [170, 11, 14, 608], [66, 6, 5, 90, 41, 609], [87, 25, 30, 52, 33, 610, 10, 24, 35, 29, 145, 611], [7, 31, 94], [324, 320, 65, 612, 613, 5, 60], [25, 89, 47, 127, 4, 89], [106, 18, 45, 59], [614, 149, 3, 93, 157, 54, 100], [12, 615, 15, 616, 25, 4, 16], [8, 25, 14, 69, 16], [35, 2, 617, 1], [176, 199, 618, 43, 4, 619, 3], [321, 38, 23, 5], [59, 288], [21, 47, 10, 29, 31, 620, 107], [2, 41, 86, 137], [134, 12, 71, 621], [22, 22, 11, 34, 209, 622, 144, 78, 3], [162, 306, 623], [29, 624, 13, 2, 625, 1], [284, 172, 1, 36], [213, 3, 17], [41, 54, 18, 45, 59, 21, 626], [11, 215, 19, 6, 64, 66], [627, 628, 11, 14, 19, 86], [7, 20, 8, 25, 75, 76], [42, 61, 629, 78, 3, 5], [630, 631, 9, 215, 19, 6, 88, 3, 2], [66, 10, 11, 20, 86], [58, 2, 97, 1], [35, 68, 632, 633, 36], [211, 4, 53, 29, 193, 634], [17, 249, 62, 635, 3], [85, 37, 72, 35, 636, 6, 88, 3], [53, 44, 637, 3, 638, 21, 47, 18, 29], [57, 44, 13, 91, 71, 30, 39], [69, 15, 639, 25, 4, 16], [147, 316, 146], [298, 307, 299], [123, 159, 110, 39, 2, 640], [146, 641], [80, 20, 75, 36], [85, 30, 10, 62, 327, 84, 24], [155, 33, 158, 89], [57, 119, 4, 77], [51, 80], [48, 15, 642, 8, 158, 1], [8, 643, 644, 1, 73], [645, 646, 1, 35, 156, 44, 647, 4, 75, 205], [648, 282, 65], [328, 649, 1, 7], [32, 42, 50, 9, 4, 38, 26, 1], [2, 71, 650, 1, 85, 37, 15], [71, 208, 1, 295], [7, 14, 143, 651, 23, 5], [2, 87, 652, 86, 74, 94], [27, 65, 653, 6, 52], [14, 143, 1, 36], [14, 69, 18, 654, 11, 655, 70], [123, 67, 31, 184, 1], [256, 142, 142, 59, 27, 47, 257, 54, 18, 45], [262, 15, 82, 28, 326, 233, 656, 10, 657, 15], [124, 41, 54, 18, 45, 658], [96, 659, 3, 2], [12, 100, 56, 135, 319, 122, 153], [90, 33, 8, 660, 1], [27, 12, 9, 661, 25, 4, 16], [148, 200, 81, 60, 8, 25, 20, 75], [17, 33, 98, 3], [24, 327, 84], [96, 7, 48, 68, 662, 1], [2, 27, 11, 20, 663], [28, 83, 664, 87, 20, 16], [80, 160, 178, 665], [24, 666, 38, 667, 151], [102, 20, 15, 82, 317, 4, 81, 297], [668, 37, 1, 7], [219, 669, 2, 1, 21, 47, 127, 152, 13], [12, 314, 670, 4, 16], [14, 69, 671, 16], [102, 672, 10, 673, 3, 95, 40], [32, 17, 10, 8, 674, 1], [68, 122, 1, 21, 47, 9], [277, 67, 18, 45, 59], [2, 675, 212, 37, 1], [114, 33, 50, 144, 11, 22, 197], [7, 2, 128, 1], [81, 13, 676, 3], [215, 79, 23, 115], [17, 80, 3, 5], [22, 22, 325, 54, 10, 61, 677, 177, 26], [289, 168, 3, 17], [2, 678, 1, 7], [58, 36, 2, 214, 160, 164, 1], [24, 322, 151], [32, 8, 679, 38, 26, 1], [27, 11, 20, 6, 64], [136, 9, 82, 61, 12, 19, 6, 64], [96, 41, 6, 310, 311, 10], [36, 76, 40, 8, 116, 13, 1], [53, 44, 41, 3, 240, 27], [179, 9, 159, 152, 103, 1, 2], [51, 7, 92, 43, 4, 38, 26, 680], [681, 682, 18, 683, 1], [17, 67, 54, 9, 141, 684, 43, 203, 3], [328, 273, 20, 75, 60], [17, 8, 685, 3], [46, 49, 111, 93, 150, 31, 3, 95]]\n",
            "[[ 21  72  73 ...   0   0   0]\n",
            " [124  73   0 ...   0   0   0]\n",
            " [  7  12  25 ...   0   0   0]\n",
            " ...\n",
            " [328 273  20 ...   0   0   0]\n",
            " [ 17   8 685 ...   0   0   0]\n",
            " [ 46  49 111 ...   0   0   0]]\n"
          ],
          "name": "stdout"
        }
      ]
    },
    {
      "cell_type": "code",
      "metadata": {
        "id": "o95qbWwWPxfU",
        "colab_type": "code",
        "colab": {
          "base_uri": "https://localhost:8080/",
          "height": 35
        },
        "outputId": "1a38efce-fabd-49f1-fdc4-0f7f3a668f52"
      },
      "source": [
        "len(all_words)"
      ],
      "execution_count": 635,
      "outputs": [
        {
          "output_type": "execute_result",
          "data": {
            "text/plain": [
              "690"
            ]
          },
          "metadata": {
            "tags": []
          },
          "execution_count": 635
        }
      ]
    },
    {
      "cell_type": "code",
      "metadata": {
        "id": "MWO2d7hnRk4A",
        "colab_type": "code",
        "colab": {}
      },
      "source": [
        "num_tokens = len(all_words)\n",
        "num_tokens += 1"
      ],
      "execution_count": 0,
      "outputs": []
    },
    {
      "cell_type": "markdown",
      "metadata": {
        "id": "khOQS4qAgMpG",
        "colab_type": "text"
      },
      "source": [
        "### Generating Contextual vectors for each word using Gensim"
      ]
    },
    {
      "cell_type": "code",
      "metadata": {
        "id": "rJW9V7pj6FYC",
        "colab_type": "code",
        "colab": {}
      },
      "source": [
        "from keras import backend as K \n",
        "\n",
        "K.clear_session()"
      ],
      "execution_count": 0,
      "outputs": []
    },
    {
      "cell_type": "code",
      "metadata": {
        "id": "c8WZWNETQPAj",
        "colab_type": "code",
        "colab": {}
      },
      "source": [
        "token_index = dict([(word, i+1) for i, word in enumerate(all_words)])"
      ],
      "execution_count": 0,
      "outputs": []
    },
    {
      "cell_type": "code",
      "metadata": {
        "id": "yvPIEm5oHSP7",
        "colab_type": "code",
        "colab": {
          "base_uri": "https://localhost:8080/",
          "height": 1000
        },
        "outputId": "1ecb30c7-5e0d-4c7d-d219-d36d62cf8709"
      },
      "source": [
        "text_corpus_list = []\n",
        "for i in tqdm(range(0,len(list_sentences))):\n",
        "  text_corpus_list.append(list_sentences[i].split(' '))\n",
        "\n",
        "model = Word2Vec(text_corpus_list,min_count=1,size=300,window=10,negative=7)\n",
        "\n",
        "model[text_corpus_list[0][3]]  "
      ],
      "execution_count": 639,
      "outputs": [
        {
          "output_type": "stream",
          "text": [
            "100%|██████████| 513/513 [00:00<00:00, 59773.81it/s]\n"
          ],
          "name": "stderr"
        },
        {
          "output_type": "execute_result",
          "data": {
            "text/plain": [
              "array([ 1.16039775e-02,  7.53988000e-03, -6.57401234e-03, -7.29825289e-04,\n",
              "       -4.60733427e-05, -6.72684936e-03, -9.57152457e-04, -3.00211646e-03,\n",
              "        4.73287795e-03, -1.11946194e-02,  1.36111146e-02, -5.56545798e-03,\n",
              "        1.51941343e-03,  7.37223588e-03, -4.90617845e-03, -9.68606304e-03,\n",
              "       -1.06288921e-02,  3.00836260e-03, -3.00184661e-03,  2.62075779e-03,\n",
              "        5.36325481e-03,  8.57522991e-03,  3.71033861e-03, -1.99985225e-03,\n",
              "        9.59226454e-04, -2.19092071e-02,  9.90538858e-03,  6.46429043e-03,\n",
              "       -1.58365781e-03, -2.97650998e-03,  3.39854485e-03, -2.25581252e-03,\n",
              "        2.90202955e-03, -1.01802219e-02,  8.20792280e-04, -3.15146404e-03,\n",
              "       -1.03681041e-02,  7.15728384e-03,  7.84268323e-03, -2.05760007e-03,\n",
              "       -1.30895311e-02,  2.98568117e-03,  4.08644695e-03,  6.39497256e-03,\n",
              "       -6.57713786e-03, -7.02761160e-03, -1.30712625e-03, -8.33657943e-03,\n",
              "        3.29026743e-03, -3.85361898e-04,  3.36923543e-03, -6.57787453e-03,\n",
              "       -1.33302383e-04,  1.23134861e-02,  8.79329257e-03, -7.72261852e-03,\n",
              "       -1.60305314e-02, -2.20356463e-03, -2.62507773e-03,  1.10192690e-02,\n",
              "       -2.51909107e-04,  9.05719120e-03, -5.96451387e-03, -2.95563863e-04,\n",
              "       -5.56864124e-03, -8.02054256e-03, -9.52358078e-03,  5.27747790e-04,\n",
              "       -1.01847656e-03,  1.53235029e-02, -1.93901337e-03, -1.59911066e-02,\n",
              "       -3.86601943e-03, -9.21482500e-03, -3.60774249e-03, -1.26204761e-02,\n",
              "       -3.73275974e-03, -7.90319405e-03,  7.63536897e-03, -1.29188853e-03,\n",
              "       -7.90849980e-03,  5.63216535e-03, -8.58116243e-03, -1.43748214e-02,\n",
              "        1.39218825e-03,  1.01325335e-02, -7.18924450e-03,  2.37012096e-03,\n",
              "        2.52108718e-03,  8.27398803e-03, -6.69380976e-03, -6.69534924e-03,\n",
              "        8.51652585e-03,  1.79675613e-02,  1.04285022e-02,  1.16027556e-02,\n",
              "        1.12210575e-03,  6.02546008e-03, -2.40468048e-02,  7.01737218e-03,\n",
              "        4.95471759e-03,  1.61099769e-02,  9.99429147e-04,  5.42586320e-04,\n",
              "       -1.34795532e-02, -1.65125518e-03,  1.60000604e-02,  8.08066921e-04,\n",
              "       -1.91875640e-02, -1.45160290e-03,  6.00417005e-03, -7.25437002e-03,\n",
              "        1.08255667e-03,  8.04598909e-04, -8.97148158e-03,  4.63335367e-04,\n",
              "        1.64898240e-03, -5.02829847e-04,  1.26069412e-02,  1.01774922e-02,\n",
              "       -2.67462386e-03, -3.24731064e-03,  3.44868959e-03,  9.75405797e-03,\n",
              "        2.13097734e-03,  1.10660372e-02, -3.99043737e-03,  7.48677645e-03,\n",
              "        1.05614355e-02,  4.04018443e-03, -4.79893479e-03, -3.59355332e-03,\n",
              "       -6.06726040e-04,  6.53861417e-03,  4.21026256e-03, -1.69593282e-03,\n",
              "       -5.40641486e-04,  2.54955352e-03, -1.14813754e-02,  5.84230525e-03,\n",
              "        4.95542958e-03, -5.45237772e-03,  3.47757037e-03, -1.16686616e-02,\n",
              "       -1.37287490e-02, -2.49100453e-03, -4.86689294e-03, -7.67438486e-03,\n",
              "        1.37883956e-02, -1.65021010e-02, -6.15649798e-04,  1.07299211e-02,\n",
              "       -7.43094692e-03,  1.35387876e-03, -3.16428300e-03,  3.64722539e-04,\n",
              "        7.59012531e-03, -6.21064147e-03, -9.55103710e-03,  1.91440817e-03,\n",
              "       -2.73470860e-03,  3.71571048e-03,  3.78148141e-03,  4.91804769e-03,\n",
              "       -1.08412439e-02, -8.33022501e-03,  5.19993249e-03, -8.76455195e-03,\n",
              "       -8.94014665e-04, -1.07943192e-02, -1.79667138e-02, -9.73130111e-03,\n",
              "        1.17667224e-02, -3.47943208e-03,  5.91131672e-03,  2.59677204e-03,\n",
              "        7.22328294e-03, -6.96839811e-03, -8.15048465e-04, -1.66077577e-02,\n",
              "        6.74866431e-04, -1.20210298e-03, -7.27987196e-03,  5.08187991e-03,\n",
              "       -4.51403065e-03,  1.20467169e-03,  1.14351255e-03,  1.44243625e-03,\n",
              "        1.39466655e-02, -1.25927068e-02,  2.73316144e-03, -7.95841217e-03,\n",
              "        2.42091413e-03,  2.48600438e-04, -4.98243561e-03,  1.30004575e-02,\n",
              "       -4.39198921e-03,  6.94697024e-03,  7.62555515e-03,  1.36381872e-02,\n",
              "        5.23310108e-03,  1.63455727e-03, -1.60558578e-02, -2.20339512e-03,\n",
              "        5.26209036e-03, -2.32565380e-03,  2.03216681e-03, -9.37804673e-03,\n",
              "        2.18335641e-04,  2.30635446e-03, -1.20339647e-03, -5.85327949e-03,\n",
              "        9.55109671e-03,  1.33676929e-02,  5.65586751e-03,  6.58648275e-03,\n",
              "       -5.24182615e-05,  4.01214883e-03, -4.07662895e-03, -2.85542425e-04,\n",
              "        4.68254928e-03, -9.23776627e-03, -3.18015547e-04,  6.22209581e-03,\n",
              "       -1.81131298e-03, -8.07501003e-03, -1.37001472e-02,  6.49371836e-03,\n",
              "        6.75524864e-03, -1.31535949e-02,  1.01227351e-02,  1.25136515e-02,\n",
              "       -4.19605616e-03,  9.68481321e-03,  4.66243830e-03, -1.08700590e-02,\n",
              "       -1.54316314e-02,  1.05556166e-02,  1.01147108e-02,  6.06854958e-03,\n",
              "        5.17906109e-03, -1.02973571e-02, -3.58499656e-03, -3.46439169e-03,\n",
              "       -1.43006141e-03, -4.86813672e-03, -2.17125448e-03, -9.82963201e-03,\n",
              "       -1.89627837e-02, -3.35284136e-03, -4.96938918e-03,  5.11672674e-03,\n",
              "        5.71682630e-03,  1.53954569e-02,  4.15486377e-03, -8.40152334e-03,\n",
              "        5.61704207e-03, -6.40124455e-03,  7.40412949e-03, -8.52528401e-03,\n",
              "        1.28753511e-02,  9.26753785e-03, -5.45048993e-03,  2.11931765e-03,\n",
              "        4.29638661e-03,  1.14736017e-02, -6.35065883e-03, -6.06451416e-03,\n",
              "       -1.45578070e-03, -5.08923840e-04,  9.81700956e-04,  6.99152052e-03,\n",
              "        4.29605320e-03,  9.75830201e-03, -4.92944010e-03,  5.32454671e-03,\n",
              "        5.99906826e-03, -4.73030494e-04,  1.70132238e-02, -1.14755761e-02,\n",
              "       -5.66724781e-03, -7.06054876e-03,  5.88570861e-03,  1.37901446e-02,\n",
              "        8.21560062e-03,  1.65837212e-03,  1.18688215e-03, -3.43240681e-03,\n",
              "        8.95946473e-03,  1.29254896e-03,  1.60131650e-03, -6.46854984e-04,\n",
              "        5.35474252e-03, -6.80112699e-03, -3.89791420e-03, -1.24387210e-02,\n",
              "       -4.86493018e-03,  5.53010963e-04,  5.42952958e-03,  4.32382058e-03],\n",
              "      dtype=float32)"
            ]
          },
          "metadata": {
            "tags": []
          },
          "execution_count": 639
        }
      ]
    },
    {
      "cell_type": "markdown",
      "metadata": {
        "id": "KVkepvJOgVq4",
        "colab_type": "text"
      },
      "source": [
        "### creating Embedding Matrix for Vectors"
      ]
    },
    {
      "cell_type": "code",
      "metadata": {
        "id": "Jk5oTu5XHVtS",
        "colab_type": "code",
        "colab": {
          "base_uri": "https://localhost:8080/",
          "height": 35
        },
        "outputId": "086ef94f-bcbf-46dc-e65b-98bf6b40a92f"
      },
      "source": [
        "word_vectors = model.wv\n",
        "len(word_vectors.vocab)"
      ],
      "execution_count": 640,
      "outputs": [
        {
          "output_type": "execute_result",
          "data": {
            "text/plain": [
              "690"
            ]
          },
          "metadata": {
            "tags": []
          },
          "execution_count": 640
        }
      ]
    },
    {
      "cell_type": "code",
      "metadata": {
        "id": "MnWIzjBCHYuo",
        "colab_type": "code",
        "colab": {}
      },
      "source": [
        "embedding_matrix = np.zeros((len(word_vectors.vocab), 300))\n",
        "for word, i in t.word_index.items():\n",
        "  if word in word_vectors.vocab and word in t.word_index.keys():\n",
        "    embedding_vector = model[word]\n",
        "    if embedding_vector is not None:\n",
        "      \n",
        "      embedding_matrix[i] = embedding_vector"
      ],
      "execution_count": 0,
      "outputs": []
    },
    {
      "cell_type": "markdown",
      "metadata": {
        "id": "PZN69_3Bgbxn",
        "colab_type": "text"
      },
      "source": [
        "### Model for Non-Contextual-vectors without a Embedding Matrix"
      ]
    },
    {
      "cell_type": "markdown",
      "metadata": {
        "id": "ySdeRmkZgtN0",
        "colab_type": "text"
      },
      "source": [
        "Intialize Vectors for Each word with random vectors and Learn those Vectors"
      ]
    },
    {
      "cell_type": "code",
      "metadata": {
        "id": "lPCRCxgSbGEH",
        "colab_type": "code",
        "colab": {}
      },
      "source": [
        "from keras.layers import Dense, Dropout, Embedding, LSTM, Bidirectional\n",
        "sequence_input = Input(shape=(12,))\n",
        "# Embedding Layer\n",
        "embedded_sequences = Embedding(num_tokens,output_dim=150,input_length=12)(sequence_input)\n",
        "# LSTM  Layer using Sequence from Backward-last\n",
        "# LSTM  Layer using Sequence from Forward Sequence\n",
        "lstm_2_model = Bidirectional(LSTM(64,return_sequences=True,dropout=0.5))(embedded_sequences)\n",
        "\n",
        "\n",
        "flatten_layer = Flatten()\n",
        "X_2 = flatten_layer(lstm_2_model)"
      ],
      "execution_count": 0,
      "outputs": []
    },
    {
      "cell_type": "markdown",
      "metadata": {
        "id": "BctPi8E3iUUX",
        "colab_type": "text"
      },
      "source": [
        "### Training Bi-directional LSTM using a Contextual vectors obtained from gensim"
      ]
    },
    {
      "cell_type": "code",
      "metadata": {
        "id": "h5q2CaRMGi58",
        "colab_type": "code",
        "colab": {}
      },
      "source": [
        "embedded_sequences_question = Embedding(len(word_vectors.vocab),output_dim=300,weights=[embedding_matrix],input_length=12,trainable=False)(sequence_input)\n",
        "\n",
        "lstm_out_model_backward_1 = Bidirectional(LSTM(64,return_sequences=True,dropout=0.25))(embedded_sequences_question)\n",
        "\n",
        "flatten_layer = Flatten()\n",
        "X = flatten_layer(lstm_out_model_backward_1)"
      ],
      "execution_count": 0,
      "outputs": []
    },
    {
      "cell_type": "markdown",
      "metadata": {
        "id": "1em22oTpieBj",
        "colab_type": "text"
      },
      "source": [
        "### Concatenate Output of LSTM's from Non-contextual and Contextual Vectors"
      ]
    },
    {
      "cell_type": "code",
      "metadata": {
        "id": "2r6XIf08GkQ-",
        "colab_type": "code",
        "colab": {}
      },
      "source": [
        "numerical_concatenate_5 = keras.layers.concatenate([X,X_2],axis=-1)"
      ],
      "execution_count": 0,
      "outputs": []
    },
    {
      "cell_type": "markdown",
      "metadata": {
        "id": "5si4kyOyikkR",
        "colab_type": "text"
      },
      "source": [
        "### Train Few Dense Layers at the End"
      ]
    },
    {
      "cell_type": "code",
      "metadata": {
        "id": "_1H5y3xNXG7o",
        "colab_type": "code",
        "colab": {}
      },
      "source": [
        "Dense_1 = Dense(128, activation='relu')(numerical_concatenate_5)\n",
        "dropout_1 = Dropout(0.5)(Dense_1)\n",
        "Dense_2 = Dense(64, activation='relu')(dropout_1)\n",
        "dropout_2 = Dropout(0.5)(Dense_2)\n",
        "Dense_3 = Dense(32, activation='relu')(dropout_2)\n",
        "\n",
        "predictions = Dense(4, activation='softmax')(Dense_3)"
      ],
      "execution_count": 0,
      "outputs": []
    },
    {
      "cell_type": "code",
      "metadata": {
        "id": "WYzAGwZyXr_p",
        "colab_type": "code",
        "colab": {}
      },
      "source": [
        "model_1 = Model(inputs= [\n",
        "                         sequence_input], outputs = predictions)"
      ],
      "execution_count": 0,
      "outputs": []
    },
    {
      "cell_type": "code",
      "metadata": {
        "id": "-jg1ptYeXwot",
        "colab_type": "code",
        "colab": {
          "base_uri": "https://localhost:8080/",
          "height": 675
        },
        "outputId": "27d3e47f-72fd-486a-ca4e-6265f33f2765"
      },
      "source": [
        "model_1.summary()"
      ],
      "execution_count": 647,
      "outputs": [
        {
          "output_type": "stream",
          "text": [
            "Model: \"model_1\"\n",
            "__________________________________________________________________________________________________\n",
            "Layer (type)                    Output Shape         Param #     Connected to                     \n",
            "==================================================================================================\n",
            "input_1 (InputLayer)            (None, 12)           0                                            \n",
            "__________________________________________________________________________________________________\n",
            "embedding_2 (Embedding)         (None, 12, 300)      207000      input_1[0][0]                    \n",
            "__________________________________________________________________________________________________\n",
            "embedding_1 (Embedding)         (None, 12, 150)      103650      input_1[0][0]                    \n",
            "__________________________________________________________________________________________________\n",
            "bidirectional_2 (Bidirectional) (None, 12, 128)      186880      embedding_2[0][0]                \n",
            "__________________________________________________________________________________________________\n",
            "bidirectional_1 (Bidirectional) (None, 12, 128)      110080      embedding_1[0][0]                \n",
            "__________________________________________________________________________________________________\n",
            "flatten_2 (Flatten)             (None, 1536)         0           bidirectional_2[0][0]            \n",
            "__________________________________________________________________________________________________\n",
            "flatten_1 (Flatten)             (None, 1536)         0           bidirectional_1[0][0]            \n",
            "__________________________________________________________________________________________________\n",
            "concatenate_1 (Concatenate)     (None, 3072)         0           flatten_2[0][0]                  \n",
            "                                                                 flatten_1[0][0]                  \n",
            "__________________________________________________________________________________________________\n",
            "dense_1 (Dense)                 (None, 128)          393344      concatenate_1[0][0]              \n",
            "__________________________________________________________________________________________________\n",
            "dropout_1 (Dropout)             (None, 128)          0           dense_1[0][0]                    \n",
            "__________________________________________________________________________________________________\n",
            "dense_2 (Dense)                 (None, 64)           8256        dropout_1[0][0]                  \n",
            "__________________________________________________________________________________________________\n",
            "dropout_2 (Dropout)             (None, 64)           0           dense_2[0][0]                    \n",
            "__________________________________________________________________________________________________\n",
            "dense_3 (Dense)                 (None, 32)           2080        dropout_2[0][0]                  \n",
            "__________________________________________________________________________________________________\n",
            "dense_4 (Dense)                 (None, 4)            132         dense_3[0][0]                    \n",
            "==================================================================================================\n",
            "Total params: 1,011,422\n",
            "Trainable params: 804,422\n",
            "Non-trainable params: 207,000\n",
            "__________________________________________________________________________________________________\n"
          ],
          "name": "stdout"
        }
      ]
    },
    {
      "cell_type": "markdown",
      "metadata": {
        "id": "UuGytmwyioeD",
        "colab_type": "text"
      },
      "source": [
        "### Store the Best Model while training which has the highest Val-Accuracy"
      ]
    },
    {
      "cell_type": "code",
      "metadata": {
        "id": "7HVl452HXylv",
        "colab_type": "code",
        "colab": {}
      },
      "source": [
        "from sklearn.metrics import roc_curve, auc\n",
        "opt = Adam(lr=0.01, beta_1=0.9, beta_2=0.999, decay=0.01)\n",
        "model_1.compile(optimizer=opt, loss='categorical_crossentropy', metrics=['accuracy'])"
      ],
      "execution_count": 0,
      "outputs": []
    },
    {
      "cell_type": "code",
      "metadata": {
        "id": "1nY23YvKLwbF",
        "colab_type": "code",
        "colab": {}
      },
      "source": [
        "# creating a model checkpoint which monitirs the training Loss \n",
        "from keras.callbacks import ModelCheckpoint\n",
        "# Model stores the Parameters of Best Model which has low training-Loss\n",
        "filepath = \"/content/drive/My Drive/quadratyx/weights_full_train-{epoch:02d}-{val_acc:.2f}.hdf5\"\n",
        "checkpoint = ModelCheckpoint(filepath, monitor='val_acc', verbose=1, save_best_only=True, mode='max')\n",
        "callbacks_list = [checkpoint]"
      ],
      "execution_count": 0,
      "outputs": []
    },
    {
      "cell_type": "code",
      "metadata": {
        "id": "7s9G-B3xX3EM",
        "colab_type": "code",
        "colab": {
          "base_uri": "https://localhost:8080/",
          "height": 1000
        },
        "outputId": "724b9fcb-a624-4a3d-dc83-8828ebbffc34"
      },
      "source": [
        "history = model_1.fit([padded_docs[:400]],y_encoded[:400],epochs = 30,batch_size=32,validation_data=([padded_docs[400:]],y_encoded[400:]),callbacks=callbacks_list)"
      ],
      "execution_count": 650,
      "outputs": [
        {
          "output_type": "stream",
          "text": [
            "Train on 400 samples, validate on 113 samples\n",
            "Epoch 1/30\n",
            "400/400 [==============================] - 5s 13ms/step - loss: 1.6637 - acc: 0.2225 - val_loss: 1.5561 - val_acc: 0.2566\n",
            "\n",
            "Epoch 00001: val_acc improved from -inf to 0.25664, saving model to /content/drive/My Drive/quadratyx/weights_full_train-01-0.26.hdf5\n",
            "Epoch 2/30\n",
            "400/400 [==============================] - 1s 3ms/step - loss: 1.6483 - acc: 0.2225 - val_loss: 1.3614 - val_acc: 0.4690\n",
            "\n",
            "Epoch 00002: val_acc improved from 0.25664 to 0.46903, saving model to /content/drive/My Drive/quadratyx/weights_full_train-02-0.47.hdf5\n",
            "Epoch 3/30\n",
            "400/400 [==============================] - 1s 2ms/step - loss: 1.3989 - acc: 0.2900 - val_loss: 1.3270 - val_acc: 0.3451\n",
            "\n",
            "Epoch 00003: val_acc did not improve from 0.46903\n",
            "Epoch 4/30\n",
            "400/400 [==============================] - 1s 3ms/step - loss: 1.3053 - acc: 0.3975 - val_loss: 1.2528 - val_acc: 0.4248\n",
            "\n",
            "Epoch 00004: val_acc did not improve from 0.46903\n",
            "Epoch 5/30\n",
            "400/400 [==============================] - 1s 3ms/step - loss: 1.1821 - acc: 0.4700 - val_loss: 1.1922 - val_acc: 0.4425\n",
            "\n",
            "Epoch 00005: val_acc did not improve from 0.46903\n",
            "Epoch 6/30\n",
            "400/400 [==============================] - 1s 3ms/step - loss: 0.8944 - acc: 0.6650 - val_loss: 1.1078 - val_acc: 0.6195\n",
            "\n",
            "Epoch 00006: val_acc improved from 0.46903 to 0.61947, saving model to /content/drive/My Drive/quadratyx/weights_full_train-06-0.62.hdf5\n",
            "Epoch 7/30\n",
            "400/400 [==============================] - 1s 3ms/step - loss: 0.7181 - acc: 0.7375 - val_loss: 1.0717 - val_acc: 0.5752\n",
            "\n",
            "Epoch 00007: val_acc did not improve from 0.61947\n",
            "Epoch 8/30\n",
            "400/400 [==============================] - 1s 3ms/step - loss: 0.5653 - acc: 0.8075 - val_loss: 1.1014 - val_acc: 0.6195\n",
            "\n",
            "Epoch 00008: val_acc did not improve from 0.61947\n",
            "Epoch 9/30\n",
            "400/400 [==============================] - 1s 3ms/step - loss: 0.3473 - acc: 0.8825 - val_loss: 1.4297 - val_acc: 0.6195\n",
            "\n",
            "Epoch 00009: val_acc did not improve from 0.61947\n",
            "Epoch 10/30\n",
            "400/400 [==============================] - 1s 2ms/step - loss: 0.2221 - acc: 0.9300 - val_loss: 1.5888 - val_acc: 0.6195\n",
            "\n",
            "Epoch 00010: val_acc did not improve from 0.61947\n",
            "Epoch 11/30\n",
            "400/400 [==============================] - 1s 3ms/step - loss: 0.1319 - acc: 0.9650 - val_loss: 2.2988 - val_acc: 0.6283\n",
            "\n",
            "Epoch 00011: val_acc improved from 0.61947 to 0.62832, saving model to /content/drive/My Drive/quadratyx/weights_full_train-11-0.63.hdf5\n",
            "Epoch 12/30\n",
            "400/400 [==============================] - 1s 3ms/step - loss: 0.0798 - acc: 0.9725 - val_loss: 2.3463 - val_acc: 0.6637\n",
            "\n",
            "Epoch 00012: val_acc improved from 0.62832 to 0.66372, saving model to /content/drive/My Drive/quadratyx/weights_full_train-12-0.66.hdf5\n",
            "Epoch 13/30\n",
            "400/400 [==============================] - 1s 3ms/step - loss: 0.0595 - acc: 0.9800 - val_loss: 2.5049 - val_acc: 0.6549\n",
            "\n",
            "Epoch 00013: val_acc did not improve from 0.66372\n",
            "Epoch 14/30\n",
            "400/400 [==============================] - 1s 3ms/step - loss: 0.1825 - acc: 0.9675 - val_loss: 1.8817 - val_acc: 0.6814\n",
            "\n",
            "Epoch 00014: val_acc improved from 0.66372 to 0.68142, saving model to /content/drive/My Drive/quadratyx/weights_full_train-14-0.68.hdf5\n",
            "Epoch 15/30\n",
            "400/400 [==============================] - 1s 3ms/step - loss: 0.0933 - acc: 0.9825 - val_loss: 1.7902 - val_acc: 0.6814\n",
            "\n",
            "Epoch 00015: val_acc did not improve from 0.68142\n",
            "Epoch 16/30\n",
            "400/400 [==============================] - 1s 3ms/step - loss: 0.0670 - acc: 0.9775 - val_loss: 1.9197 - val_acc: 0.6814\n",
            "\n",
            "Epoch 00016: val_acc improved from 0.68142 to 0.68142, saving model to /content/drive/My Drive/quadratyx/weights_full_train-16-0.68.hdf5\n",
            "Epoch 17/30\n",
            "400/400 [==============================] - 1s 3ms/step - loss: 0.1107 - acc: 0.9725 - val_loss: 2.1206 - val_acc: 0.6726\n",
            "\n",
            "Epoch 00017: val_acc did not improve from 0.68142\n",
            "Epoch 18/30\n",
            "400/400 [==============================] - 1s 3ms/step - loss: 0.0505 - acc: 0.9825 - val_loss: 2.4159 - val_acc: 0.6903\n",
            "\n",
            "Epoch 00018: val_acc improved from 0.68142 to 0.69027, saving model to /content/drive/My Drive/quadratyx/weights_full_train-18-0.69.hdf5\n",
            "Epoch 19/30\n",
            "400/400 [==============================] - 1s 2ms/step - loss: 0.1090 - acc: 0.9825 - val_loss: 2.3354 - val_acc: 0.7080\n",
            "\n",
            "Epoch 00019: val_acc improved from 0.69027 to 0.70796, saving model to /content/drive/My Drive/quadratyx/weights_full_train-19-0.71.hdf5\n",
            "Epoch 20/30\n",
            "400/400 [==============================] - 1s 2ms/step - loss: 0.0204 - acc: 0.9975 - val_loss: 2.7724 - val_acc: 0.6814\n",
            "\n",
            "Epoch 00020: val_acc did not improve from 0.70796\n",
            "Epoch 21/30\n",
            "400/400 [==============================] - 1s 3ms/step - loss: 0.0996 - acc: 0.9875 - val_loss: 2.3721 - val_acc: 0.7080\n",
            "\n",
            "Epoch 00021: val_acc improved from 0.70796 to 0.70796, saving model to /content/drive/My Drive/quadratyx/weights_full_train-21-0.71.hdf5\n",
            "Epoch 22/30\n",
            "400/400 [==============================] - 1s 3ms/step - loss: 0.0595 - acc: 0.9875 - val_loss: 2.3222 - val_acc: 0.6991\n",
            "\n",
            "Epoch 00022: val_acc did not improve from 0.70796\n",
            "Epoch 23/30\n",
            "400/400 [==============================] - 1s 3ms/step - loss: 0.0326 - acc: 0.9950 - val_loss: 2.2413 - val_acc: 0.6903\n",
            "\n",
            "Epoch 00023: val_acc did not improve from 0.70796\n",
            "Epoch 24/30\n",
            "400/400 [==============================] - 1s 3ms/step - loss: 0.0153 - acc: 0.9975 - val_loss: 2.2291 - val_acc: 0.6726\n",
            "\n",
            "Epoch 00024: val_acc did not improve from 0.70796\n",
            "Epoch 25/30\n",
            "400/400 [==============================] - 1s 3ms/step - loss: 0.0271 - acc: 0.9950 - val_loss: 2.3713 - val_acc: 0.6726\n",
            "\n",
            "Epoch 00025: val_acc did not improve from 0.70796\n",
            "Epoch 26/30\n",
            "400/400 [==============================] - 1s 3ms/step - loss: 0.0201 - acc: 0.9900 - val_loss: 2.5707 - val_acc: 0.6637\n",
            "\n",
            "Epoch 00026: val_acc did not improve from 0.70796\n",
            "Epoch 27/30\n",
            "400/400 [==============================] - 1s 2ms/step - loss: 0.0115 - acc: 0.9975 - val_loss: 2.6731 - val_acc: 0.6460\n",
            "\n",
            "Epoch 00027: val_acc did not improve from 0.70796\n",
            "Epoch 28/30\n",
            "400/400 [==============================] - 1s 3ms/step - loss: 0.0254 - acc: 0.9950 - val_loss: 2.7121 - val_acc: 0.6637\n",
            "\n",
            "Epoch 00028: val_acc did not improve from 0.70796\n",
            "Epoch 29/30\n",
            "400/400 [==============================] - 1s 3ms/step - loss: 0.0437 - acc: 0.9950 - val_loss: 2.5607 - val_acc: 0.6637\n",
            "\n",
            "Epoch 00029: val_acc did not improve from 0.70796\n",
            "Epoch 30/30\n",
            "400/400 [==============================] - 1s 3ms/step - loss: 0.0256 - acc: 0.9900 - val_loss: 2.5119 - val_acc: 0.6726\n",
            "\n",
            "Epoch 00030: val_acc did not improve from 0.70796\n"
          ],
          "name": "stdout"
        }
      ]
    },
    {
      "cell_type": "markdown",
      "metadata": {
        "id": "QYj_Q8EYiuLj",
        "colab_type": "text"
      },
      "source": [
        "### Model Diagram"
      ]
    },
    {
      "cell_type": "code",
      "metadata": {
        "id": "2sLkgIjuhXYL",
        "colab_type": "code",
        "colab": {
          "base_uri": "https://localhost:8080/",
          "height": 1000
        },
        "outputId": "bcd00c85-6051-4490-ae23-1f0e6c3ad03c"
      },
      "source": [
        "from keras.utils import plot_model\n",
        "plot_model(model_1, to_file='model.png')"
      ],
      "execution_count": 651,
      "outputs": [
        {
          "output_type": "execute_result",
          "data": {
            "image/png": "[encoded data removed]",
            "text/plain": [
              "<IPython.core.display.Image object>"
            ]
          },
          "metadata": {
            "tags": []
          },
          "execution_count": 651
        }
      ]
    },
    {
      "cell_type": "markdown",
      "metadata": {
        "id": "DzgDuacNiwWS",
        "colab_type": "text"
      },
      "source": [
        "### Model's plot's Train and Valid-ACC"
      ]
    },
    {
      "cell_type": "code",
      "metadata": {
        "id": "FJX_6MPe0OWN",
        "colab_type": "code",
        "colab": {
          "base_uri": "https://localhost:8080/",
          "height": 573
        },
        "outputId": "524f2594-7c18-458e-c1fb-a90cca3323df"
      },
      "source": [
        "# Plot training & validation accuracy values\n",
        "plt.plot(history.history['acc'])\n",
        "plt.plot(history.history['val_acc'])\n",
        "plt.title('Model accuracy')\n",
        "plt.ylabel('Accuracy')\n",
        "plt.xlabel('Epoch')\n",
        "plt.legend(['Train', 'Test'], loc='upper left')\n",
        "plt.show()\n",
        "\n",
        "# Plot training & validation loss values\n",
        "plt.plot(history.history['loss'])\n",
        "plt.plot(history.history['val_loss'])\n",
        "plt.title('Model loss')\n",
        "plt.ylabel('Loss')\n",
        "plt.xlabel('Epoch')\n",
        "plt.legend(['Train', 'Test'], loc='upper left')\n",
        "plt.show()"
      ],
      "execution_count": 652,
      "outputs": [
        {
          "output_type": "display_data",
          "data": {
            "image/png": "[encoded data removed]",
            "text/plain": [
              "<Figure size 432x288 with 1 Axes>"
            ]
          },
          "metadata": {
            "tags": []
          }
        },
        {
          "output_type": "display_data",
          "data": {
            "image/png": "[encoded data removed]",
            "text/plain": [
              "<Figure size 432x288 with 1 Axes>"
            ]
          },
          "metadata": {
            "tags": []
          }
        }
      ]
    },
    {
      "cell_type": "markdown",
      "metadata": {
        "id": "9fuHY15zi0LC",
        "colab_type": "text"
      },
      "source": [
        "### Load the Best Model"
      ]
    },
    {
      "cell_type": "code",
      "metadata": {
        "id": "iXjZrY8TL3pj",
        "colab_type": "code",
        "colab": {}
      },
      "source": [
        "from keras.models import load_model\n",
        "\n",
        "model_1 = load_model('/content/drive/My Drive/quadratyx/weights_full_train-21-0.71.hdf5')"
      ],
      "execution_count": 0,
      "outputs": []
    },
    {
      "cell_type": "markdown",
      "metadata": {
        "id": "Xiwq-tOhi2xR",
        "colab_type": "text"
      },
      "source": [
        "### train Confusion matrix, Precision Matrix, Recall Matrix"
      ]
    },
    {
      "cell_type": "code",
      "metadata": {
        "id": "qWIsHMYA0Zsj",
        "colab_type": "code",
        "colab": {}
      },
      "source": [
        "y_predicted_train = model_1.predict([padded_docs[:400]])"
      ],
      "execution_count": 0,
      "outputs": []
    },
    {
      "cell_type": "code",
      "metadata": {
        "id": "mXa9Ff4B0nr5",
        "colab_type": "code",
        "colab": {}
      },
      "source": [
        "y_predicted_label= [np.argmax(y_predicted_train[i])+1 for i in range(y_predicted_train.shape[0])]"
      ],
      "execution_count": 0,
      "outputs": []
    },
    {
      "cell_type": "code",
      "metadata": {
        "id": "2uBjv-060sUs",
        "colab_type": "code",
        "colab": {}
      },
      "source": [
        "from sklearn.metrics import accuracy_score\n",
        "from sklearn.metrics import confusion_matrix \n",
        "import seaborn as sns\n",
        "def plot_confusion_matrix(test_y, predict_y):\n",
        "    C = confusion_matrix(test_y, predict_y)\n",
        "    \n",
        "    # C = 17,17 matrix, each cell (i,j) represents number of points of class i are predicted class j\n",
        "    \n",
        "    A =(((C.T)/(C.sum(axis=1))).T)\n",
        "    #divid each element of the confusion matrix with the sum of elements in that column\n",
        "    \n",
        "    # C = [[1, 2],\n",
        "    #     [3, 4]]\n",
        "    # C.T = [[1, 3],\n",
        "    #        [2, 4]]\n",
        "    # C.sum(axis = 1)  axis=0 corresonds to columns and axis=1 corresponds to rows in two diamensional array\n",
        "    # C.sum(axix =1) = [[3, 7]]\n",
        "    # ((C.T)/(C.sum(axis=1))) = [[1/3, 3/7]\n",
        "    #                           [2/3, 4/7]]\n",
        "\n",
        "    # ((C.T)/(C.sum(axis=1))).T = [[1/3, 2/3]\n",
        "    #                           [3/7, 4/7]]\n",
        "    # sum of row elements = 1\n",
        "    \n",
        "    B =(C/C.sum(axis=0))\n",
        "    #divid each element of the confusion matrix with the sum of elements in that row\n",
        "    # C = [[1, 2],\n",
        "    #     [3, 4]]\n",
        "    # C.sum(axis = 0)  axis=0 corresonds to columns and axis=1 corresponds to rows in two diamensional array\n",
        "    # C.sum(axix =0) = [[4, 6]]\n",
        "    # (C/C.sum(axis=0)) = [[1/4, 2/6],\n",
        "    #                      [3/4, 4/6]] \n",
        "    # Confusion matrix\n",
        "    labels = ['sad','neutral','happy','angry']\n",
        "    cmap=sns.light_palette(\"red\")\n",
        "    # representing A in heatmap format\n",
        "    print(\"-\"*50, \"Confusion matrix\", \"-\"*50)\n",
        "    plt.figure(figsize=(17,4))\n",
        "    sns.heatmap(C, annot=True, cmap=cmap, fmt='d',xticklabels=labels, yticklabels=labels)\n",
        "    plt.xlabel('Predicted Class')\n",
        "    plt.ylabel('Original Class')\n",
        "    plt.show()\n",
        "    \n",
        "    # PRECISION MATRIX\n",
        "    print(\"-\"*50, \"Precision matrix\", \"-\"*50)\n",
        "    cmap=sns.light_palette(\"green\")\n",
        "    plt.figure(figsize=(17,4))\n",
        "    sns.heatmap(B, annot=True, cmap=cmap, fmt=\".2g\", xticklabels=labels, yticklabels=labels)\n",
        "    plt.xlabel('Predicted Class')\n",
        "    plt.ylabel('Original Class')\n",
        "    plt.show()\n",
        "    print(\"Sum of columns in precision matrix\",B.sum(axis=0))\n",
        "    \n",
        "    # RECALL MATRIX\n",
        "    # representing B in heatmap format\n",
        "    print(\"-\"*50, \"Recall matrix\"    , \"-\"*50)\n",
        "    cmap=sns.light_palette(\"blue\")\n",
        "    plt.figure(figsize=(17,4))\n",
        "    sns.heatmap(A, annot=True, cmap=cmap, fmt=\".2g\", xticklabels=labels, yticklabels=labels)\n",
        "    plt.xlabel('Predicted Class')\n",
        "    plt.ylabel('Original Class')\n",
        "    plt.show()\n",
        "    print(\"Sum of rows in precision matrix\",A.sum(axis=1))\n",
        "    # how many images are wrongly Predicted\n",
        "    print(\"Number of misclassified points \",(len(test_y)-np.trace(C))/len(test_y)*100)"
      ],
      "execution_count": 0,
      "outputs": []
    },
    {
      "cell_type": "code",
      "metadata": {
        "id": "GFZOpzUz1bho",
        "colab_type": "code",
        "colab": {
          "base_uri": "https://localhost:8080/",
          "height": 917
        },
        "outputId": "99200c6a-f535-47f6-e59b-c7e003a54cbb"
      },
      "source": [
        "plot_confusion_matrix(output_y[:400],y_predicted_label)"
      ],
      "execution_count": 575,
      "outputs": [
        {
          "output_type": "stream",
          "text": [
            "-------------------------------------------------- Confusion matrix --------------------------------------------------\n"
          ],
          "name": "stdout"
        },
        {
          "output_type": "display_data",
          "data": {
            "image/png": "[encoded data removed]",
            "text/plain": [
              "<Figure size 1224x288 with 2 Axes>"
            ]
          },
          "metadata": {
            "tags": []
          }
        },
        {
          "output_type": "stream",
          "text": [
            "-------------------------------------------------- Precision matrix --------------------------------------------------\n"
          ],
          "name": "stdout"
        },
        {
          "output_type": "display_data",
          "data": {
            "image/png": "[encoded data removed]",
            "text/plain": [
              "<Figure size 1224x288 with 2 Axes>"
            ]
          },
          "metadata": {
            "tags": []
          }
        },
        {
          "output_type": "stream",
          "text": [
            "Sum of columns in precision matrix [1. 1. 1. 1.]\n",
            "-------------------------------------------------- Recall matrix --------------------------------------------------\n"
          ],
          "name": "stdout"
        },
        {
          "output_type": "display_data",
          "data": {
            "image/png": "[encoded data removed]",
            "text/plain": [
              "<Figure size 1224x288 with 2 Axes>"
            ]
          },
          "metadata": {
            "tags": []
          }
        },
        {
          "output_type": "stream",
          "text": [
            "Sum of rows in precision matrix [1. 1. 1. 1.]\n",
            "Number of misclassified points  1.5\n"
          ],
          "name": "stdout"
        }
      ]
    },
    {
      "cell_type": "markdown",
      "metadata": {
        "id": "-lyvRyOvi-SA",
        "colab_type": "text"
      },
      "source": [
        "### Test Confusion Matrix, PrecisionMatrix,Recall Matrix"
      ]
    },
    {
      "cell_type": "code",
      "metadata": {
        "id": "TIeS2O751lvq",
        "colab_type": "code",
        "colab": {}
      },
      "source": [
        "y_predicted_test = model_1.predict([padded_docs[400:]])\n",
        "\n",
        "y_predicted_label= [np.argmax(y_predicted_test[i])+1 for i in range(y_predicted_test.shape[0])]"
      ],
      "execution_count": 0,
      "outputs": []
    },
    {
      "cell_type": "code",
      "metadata": {
        "id": "jlPqYqyzK3Qn",
        "colab_type": "code",
        "colab": {
          "base_uri": "https://localhost:8080/",
          "height": 919
        },
        "outputId": "8c9533b5-e67c-4a09-b9b2-ddb9b341682c"
      },
      "source": [
        "plot_confusion_matrix(output_y[400:],y_predicted_label)"
      ],
      "execution_count": 577,
      "outputs": [
        {
          "output_type": "stream",
          "text": [
            "-------------------------------------------------- Confusion matrix --------------------------------------------------\n"
          ],
          "name": "stdout"
        },
        {
          "output_type": "display_data",
          "data": {
            "image/png": "[encoded data removed]",
            "text/plain": [
              "<Figure size 1224x288 with 2 Axes>"
            ]
          },
          "metadata": {
            "tags": []
          }
        },
        {
          "output_type": "stream",
          "text": [
            "-------------------------------------------------- Precision matrix --------------------------------------------------\n"
          ],
          "name": "stdout"
        },
        {
          "output_type": "display_data",
          "data": {
            "image/png": "[encoded data removed]",
            "text/plain": [
              "<Figure size 1224x288 with 2 Axes>"
            ]
          },
          "metadata": {
            "tags": []
          }
        },
        {
          "output_type": "stream",
          "text": [
            "Sum of columns in precision matrix [1. 1. 1. 1.]\n",
            "-------------------------------------------------- Recall matrix --------------------------------------------------\n"
          ],
          "name": "stdout"
        },
        {
          "output_type": "display_data",
          "data": {
            "image/png": "[encoded data removed]",
            "text/plain": [
              "<Figure size 1224x288 with 2 Axes>"
            ]
          },
          "metadata": {
            "tags": []
          }
        },
        {
          "output_type": "stream",
          "text": [
            "Sum of rows in precision matrix [1. 1. 1. 1.]\n",
            "Number of misclassified points  29.20353982300885\n"
          ],
          "name": "stdout"
        }
      ]
    }
  ]
}